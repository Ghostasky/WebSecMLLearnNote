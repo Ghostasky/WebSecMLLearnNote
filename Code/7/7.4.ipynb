{
 "cells": [
  {
   "cell_type": "code",
   "execution_count": 1,
   "metadata": {},
   "outputs": [],
   "source": [
    "import os\n",
    "from sklearn.feature_extraction.text import CountVectorizer\n",
    "import sys\n",
    "import numpy as np\n",
    "from sklearn.model_selection import cross_val_score\n",
    "from sklearn.naive_bayes import GaussianNB"
   ]
  },
  {
   "cell_type": "code",
   "execution_count": 27,
   "metadata": {},
   "outputs": [],
   "source": [
    "# 切割方法：\n",
    "r_token_pattern=r'\\b\\w+\\b\\(|\\'\\w+\\''\n",
    "\n",
    "\n",
    "def load_file(file_path):\n",
    "    t=\"\"\n",
    "    with open(file_path,'r',encoding='utf-8') as f:\n",
    "        for line in f:\n",
    "            line=line.strip('\\n')\n",
    "            t+=line\n",
    "    return t\n",
    "\n",
    "\n",
    "def load_files(path):\n",
    "    files_list=[]\n",
    "    for r, d, files in os.walk(path):\n",
    "        # print(r,d,files)\n",
    "        for file in files:\n",
    "            if file.endswith('.php'):\n",
    "                file_path=path+file\n",
    "                # print(file_path)\n",
    "                \n",
    "                #print \"Load %s\" % file_path\n",
    "                t=load_file(file_path)\n",
    "                files_list.append(t)\n",
    "    return  files_list\n"
   ]
  },
  {
   "cell_type": "code",
   "execution_count": 34,
   "metadata": {},
   "outputs": [
    {
     "name": "stdout",
     "output_type": "stream",
     "text": [
      "{'phpif(': 272, 'crypt(': 141, \"'http_h0st'\": 48, \"'514zr17f8j0q6'\": 5, 'file_put_contents(': 171, \"'http_x'\": 50, \"'http_y'\": 51, 'header(': 207, 'fsockopen(': 185, 'echo(': 149, 'eval(': 154, 'fwrite(': 187, 'while(': 334, 'feof(': 165, 'fgets(': 168, 'fclose(': 162, 'str_replace(': 313, 'akmi4(': 113, 'gzsw5(': 204, 'hygg4(': 209, 'foxl6(': 181, 'include(': 214, 'phpini_set(': 273, 'system(': 324, 'chr(': 131, '_uu(': 111, '_ff(': 110, '_(': 105, 'assert(': 120, 'die(': 144, \"'forbidden'\": 40, \"'ls'\": 59, \"'cd'\": 20, 'base64_decode(': 124, 'x(': 336, \"'c'\": 18, \"'wind'\": 100, \"'assert'\": 15, \"'hkwwj'\": 45, 'gzinflate(': 202, \"'_request'\": 12, 'empty(': 151, \"'pbbs'\": 69, \"'upb_'\": 93, 'lwa(': 231, \"'pwwk'\": 74, \"'xfrwa'\": 101, 'sdlt(': 292, \"'epd'\": 35, \"'request_method'\": 78, \"'post'\": 73, 'if(': 211, 'file_exists(': 169, 'copy(': 138, 'md5(': 236, 'phpsession_start(': 274, 'ini_set(': 216, \"'memory_limit'\": 61, 'define(': 143, \"'pass'\": 67, \"'123456'\": 0, 'pack(': 265, 'array(': 116, \"'p'\": 65, 'i(': 210, \"'f'\": 37, \"'e'\": 33, \"'h'\": 44, \"'687474703a2f2f626c616b696e2e64756170702e636f6d2f7631'\": 8, \"'s'\": 81, 'isset(': 221, \"'t'\": 88, 'gzuncompress(': 205, \"'_'\": 10, '__f_f(': 106, '__h_h(': 107, 'phperror_reporting(': 270, 'session_start(': 295, \"'api'\": 14, 'substr(': 322, 'file_get_contents(': 170, 'sprintf(': 308, \"'687474703a2f2f377368656c6c2e676f6f676c65636f64652e636f6d2f73766e2f6d616b652e6a7067'\": 7, 'uniqid(': 329, 'preg_replace(': 281, 'array_map(': 118, \"'expdoor'\": 36, '65534(': 104, '65533(': 103, 'intval(': 217, \"'port'\": 72, \"'host'\": 46, \"'os'\": 64, 'sys_get_temp_dir(': 323, 'getuid(': 197, 'unsetenv(': 331, 'open(': 261, 'exit(': 158, 'read(': 288, 'void(': 333, \"'freebsd'\": 42, 'function_exists(': 186, \"'file_put_contents'\": 39, 'fopen(': 178, \"'w'\": 98, 'gethostbyname(': 193, 'explode(': 160, \"'shellcode'\": 85, \"'ld_preload'\": 57, 'unset(': 330, 'boomproc_open(': 127, \"'ihsteam'\": 54, 'mail(': 232, \"'usr'\": 94, \"'idc'\": 53, 'k(': 222, \"'u'\": 92, \"'call'\": 19, \"'code'\": 22, \"'61737365727428245f504f53545b635d293b'\": 6, \"'cmd'\": 21, 'getmd5(': 194, 'set_time_limit(': 296, 'date(': 142, 'write(': 335, \"'gzip'\": 43, 'gzwrite(': 206, \"'fp'\": 41, 'mysql_select_db(': 250, 'gzopen(': 203, 'mysql_fetch_array(': 246, \"'tables_in_'\": 89, 'mysql_num_rows(': 248, 'mysql_fetch_row(': 247, 'mysql_escape_string(': 245, 'values(': 332, 'implode(': 213, 'gzclose(': 199, 'filetype(': 175, \"'rb'\": 76, 'fread(': 184, 'filesize(': 174, 'time(': 326, 'rand(': 287, \"'http_referer'\": 49, \"'document_root'\": 32, \"'remote_addr'\": 77, \"'script_filename'\": 82, \"'server_addr'\": 83, \"'server_software'\": 84, \"'path_translated'\": 68, \"'php_self'\": 71, 'chunk_split(': 132, 'base64_encode(': 125, 'shell_exec(': 299, 'exec(': 155, 'phpeval(': 271, 'getenv(': 192, \"'http_code'\": 47, \"'base'\": 16, \"'_de'\": 11, 'g___g_(': 189, \"'sp'\": 87, 'strrev(': 321, 'strlen(': 317, 'for(': 179, 'ord(': 263, 'create_function(': 140, 'g____g_(': 188, \"'3802'\": 3, \"'fexin'\": 38, \"'ice'\": 52, 'str_rot13(': 314, \"'riny'\": 79, \"'add'\": 13, \"'max_execution_time'\": 60, 'fputs(': 183, 'trim(': 327, \"'43cb006424cbf7b46dbca36c8ed79b69'\": 4, 'string2array(': 316, \"'bug'\": 17, \"'km'\": 55, \"'crkmekmate_kmkmfukmkmnction'\": 23, 'ob_sdotdoart(': 259, 'edoval(': 150, 'gzdoudoncomdopress(': 201, 'bdoase64do_decode(': 126, 'preg_repladoce(': 282, 'fdoor(': 163, 'ay(': 122, 'adorraydo(': 112, 'ss(': 310, 'ob_get_docontedondots(': 257, 'sedossdoiondodo_start(': 293, 'sl(': 306, 'doss(': 146, 'mddo5(': 237, 'e_url(': 148, 'padorse_str(': 266, 'array_dodovadolues(': 117, 'prdoedog_domatch_all(': 280, 'dofor(': 145, 'cdoount(': 128, 'strpos(': 320, 'an(': 114, 'badosedo64_encodode(': 123, 'gzdodocompressdo(': 200, 'print(': 284, 'session_dedostroy(': 294, 'ardoray_kdoey_existdos(': 115, 'strpdoos(': 319, \"'do'\": 31, 'y(': 337, 'p(': 264, \"'page'\": 66, \"'qid'\": 75, \"'850abe17d6d33516c10c6269d899fd19'\": 9, 'passthru(': 267, \"'v'\": 96, 'error_reporting(': 152, \"'display_errors'\": 30, \"'off'\": 63, \"'256m'\": 1, \"'version'\": 97, \"'tef'\": 90, 'liner(': 228, 'closelog(': 135, 'get_current_user(': 190, 'phpversion(': 275, 'posix_getuid(': 278, 'posix_geteuid(': 276, 'posix_getgid(': 277, 'getcwd(': 191, 'posix_uname(': 279, 'list(': 229, 'uid(': 328, 'euid(': 153, 'gid(': 198, 'chdir(': 130, 'ob_start(': 260, 'fe(': 164, 'ob_get_contents(': 256, 'ob_end_clean(': 254, 'opendir(': 262, 'readdir(': 289, 'is_file(': 219, 'fileowner(': 172, 'fileperms(': 173, 'flush(': 177, 'is_dir(': 218, 'is_writable(': 220, 'main(': 233, 'n(': 251, 'printf(': 285, 'malloc(': 234, 'strncpy(': 318, 'atoi(': 121, 'memcpy(': 238, 'inet_addr(': 215, 'htons(': 208, 'socket(': 307, 'connect(': 137, 'sizeof(': 305, 'fork(': 180, 'dup2(': 147, 'execl(': 156, 'close(': 134, 'fatal(': 161, 'fprintf(': 182, 'strerror(': 315, 'kill(': 225, 'getpid(': 195, 'pause(': 268, 'configure(': 136, 'expand(': 159, 'sbrk(': 291, 'sigsegv(': 304, 'longjmp(': 230, 'prepare(': 283, 'sigemptyset(': 302, 'sigaction(': 301, 'testaddr(': 325, 'setjmp(': 297, 'next(': 252, 'map(': 235, 'signal(': 303, 'find(': 176, 'modify_ldt(': 240, 'ldt(': 227, 'memset(': 239, 'kernel(': 224, 'kcode(': 223, '__str(': 109, 'str(': 312, '__kcode(': 108, 'asm(': 119, 'knockout(': 226, 'mprotect(': 241, 'shell(': 298, 'execve(': 157, 'remap(': 290, 'munmap(': 242, 'show_source(': 300, 'stat(': 311, 'count(': 139, 'getservbyport(': 196, 'sqlerror_reporting(': 309, 'ignore_user_abort(': 212, 'ob_clean(': 253, \"'sn'\": 86, \"'en'\": 34, \"'ln'\": 58, 'mysql_connect(': 243, 'mysql_query(': 249, \"'utf8'\": 95, 'ob_get_level(': 258, 'mysql_error(': 244, 'ob_end_flush(': 255, \"'xiaomi_com'\": 102, \"'db_host'\": 25, \"'db_port'\": 28, \"'3306'\": 2, \"'db_name'\": 26, \"'thinkphp'\": 91, \"'db_user'\": 29, \"'root'\": 80, \"'db_pass'\": 27, \"'wanan'\": 99, \"'db_char'\": 24, 'class_exists(': 133, \"'pdo'\": 70, \"'mysql'\": 62, \"'l'\": 56, 'pdo(': 269, 'query(': 286, 'fetch(': 166, 'ceil(': 129, 'fetchall(': 167}\n",
      "[0.8        0.79591837 0.75510204]\n"
     ]
    }
   ],
   "source": [
    "#bigram_vectorizer = CountVectorizer(ngram_range=(2, 2),token_pattern = r'\\b\\w+\\b', min_df = 1)\n",
    "webshell_bigram_vectorizer = CountVectorizer(ngram_range=(1, 1), decode_error=\"ignore\",\n",
    "                                    token_pattern = r_token_pattern,min_df=1)\n",
    "\n",
    "\n",
    "# print(webshell_bigram_vectorizer)\n",
    "webshell_files_list=load_files(\"../../Data/PHP-WEBSHELL/xiaoma/\")\n",
    "x1=webshell_bigram_vectorizer.fit_transform(webshell_files_list)\n",
    "# print(x1)\n",
    "x1=x1.toarray()\n",
    "\n",
    "y1=[1]*len(x1)\n",
    "vocabulary=webshell_bigram_vectorizer.vocabulary_\n",
    "wp_bigram_vectorizer = CountVectorizer(ngram_range=(1, 1), decode_error=\"ignore\",\n",
    "                                    token_pattern = r_token_pattern,min_df=1,vocabulary=vocabulary)\n",
    "wp_files_list=load_files(\"../../Data/wordpress/\")\n",
    "x2=wp_bigram_vectorizer.transform(wp_files_list).toarray()\n",
    "#print x2\n",
    "\n",
    "y2=[0]*len(x2)\n",
    "x=np.concatenate((x1,x2))\n",
    "y=np.concatenate((y1, y2))\n",
    "clf = GaussianNB()\n",
    "print(vocabulary)\n",
    "print(cross_val_score(clf, x, y, n_jobs=-1,cv=3))\n"
   ]
  }
 ],
 "metadata": {
  "kernelspec": {
   "display_name": "Python 3.9.1 64-bit",
   "language": "python",
   "name": "python3"
  },
  "language_info": {
   "codemirror_mode": {
    "name": "ipython",
    "version": 3
   },
   "file_extension": ".py",
   "mimetype": "text/x-python",
   "name": "python",
   "nbconvert_exporter": "python",
   "pygments_lexer": "ipython3",
   "version": "3.9.1"
  },
  "orig_nbformat": 4,
  "vscode": {
   "interpreter": {
    "hash": "81794d4967e6c3204c66dcd87b604927b115b27c00565d3d43f05ba2f3a2cb0d"
   }
  }
 },
 "nbformat": 4,
 "nbformat_minor": 2
}
