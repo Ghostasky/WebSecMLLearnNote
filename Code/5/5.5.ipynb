{
 "cells": [
  {
   "cell_type": "code",
   "execution_count": 2,
   "metadata": {},
   "outputs": [],
   "source": [
    "import re\n",
    "import os\n",
    "import numpy as np\n",
    "from sklearn.feature_extraction.text import CountVectorizer\n",
    "from sklearn.model_selection import cross_val_score\n",
    "from sklearn.neighbors import KNeighborsClassifier\n"
   ]
  },
  {
   "cell_type": "code",
   "execution_count": 10,
   "metadata": {},
   "outputs": [],
   "source": [
    "def load_one_flle(filename):\n",
    "    x=[]\n",
    "    with open(filename) as f:\n",
    "        line=f.readline()\n",
    "        line=line.strip('\\n')\n",
    "    return line\n",
    "\n",
    "#加载ADFA-LD中的正常样本数据\n",
    "def load_adfa_training_files(rootdir):\n",
    "    x=[]\n",
    "    y=[]\n",
    "    list = os.listdir(rootdir)# 目录下的文件存为列表\n",
    "    for i in range(0, len(list)):\n",
    "        path = os.path.join(rootdir, list[i])#文件名与目录拼接\n",
    "        if os.path.isfile(path):\n",
    "            x.append(load_one_flle(path))\n",
    "            y.append(0)\n",
    "    return x,y\n",
    "\n",
    "#定义遍历目录下文件的函数\n",
    "def dirlist(path, allfile):\n",
    "    filelist = os.listdir(path)\n",
    "\n",
    "    for filename in filelist:\n",
    "        filepath = os.path.join(path, filename)\n",
    "        if os.path.isdir(filepath):\n",
    "            dirlist(filepath, allfile)\n",
    "        else:\n",
    "            allfile.append(filepath)\n",
    "    return allfile\n",
    "\n",
    "#从攻击数据集中筛选和webshell相关的数据\n",
    "def load_adfa_webshell_files(rootdir):\n",
    "    x=[]\n",
    "    y=[]\n",
    "    allfile=dirlist(rootdir,[])\n",
    "    for file in allfile:\n",
    "        #此处小心，前部分分隔符为/，web_shell_x后为\\\n",
    "        if re.match(r\"../../Data/ADFA-LD/Attack_Data_Master/Web_Shell_\\d+\\\\UAD-W*\",file):\n",
    "            # print(file)\n",
    "            x.append(load_one_flle(file))\n",
    "            y.append(1)\n",
    "    return x,y\n"
   ]
  },
  {
   "cell_type": "code",
   "execution_count": 21,
   "metadata": {},
   "outputs": [
    {
     "name": "stdout",
     "output_type": "stream",
     "text": [
      "[0.95833333 0.94736842 0.97894737 0.96842105 0.98947368 0.84210526\n",
      " 0.97894737 0.98947368 0.97894737 0.97894737]\n",
      "0.9610964912280704\n"
     ]
    }
   ],
   "source": [
    "\n",
    "# x1为所有文件中的值,y1为0\n",
    "x1,y1=load_adfa_training_files(\"../../Data/ADFA-LD/Training_Data_Master/\")\n",
    "# x2为所有文件中的值,y2为1\n",
    "x2,y2=load_adfa_webshell_files(\"../../Data/ADFA-LD/Attack_Data_Master/\")\n",
    "# print(x1[0])\n",
    "# print(\"----\")\n",
    "# print(x2[0])\n",
    "# print(\"====\")\n",
    "# print(y1[0])\n",
    "# print(\"----\")\n",
    "# print(y2[0])\n",
    "x=x1+x2#拼接\n",
    "y=y1+y2\n",
    "# print(x)\n",
    "vectorizer = CountVectorizer(min_df=1)#将文本文档集合转换为令牌计数矩阵。是一个文本特征提取方法\n",
    "x=vectorizer.fit_transform(x)\n",
    "x=x.toarray()\n",
    "# print(vectorizer.get_feature_names_out())\n",
    "# #print(y)\n",
    "clf = KNeighborsClassifier(n_neighbors=3)\n",
    "scores=cross_val_score(clf, x, y, n_jobs=-1, cv=10)\n",
    "print(scores)\n",
    "print(np.mean(scores))"
   ]
  }
 ],
 "metadata": {
  "kernelspec": {
   "display_name": "Python 3.9.1 64-bit",
   "language": "python",
   "name": "python3"
  },
  "language_info": {
   "codemirror_mode": {
    "name": "ipython",
    "version": 3
   },
   "file_extension": ".py",
   "mimetype": "text/x-python",
   "name": "python",
   "nbconvert_exporter": "python",
   "pygments_lexer": "ipython3",
   "version": "3.9.1"
  },
  "orig_nbformat": 4,
  "vscode": {
   "interpreter": {
    "hash": "81794d4967e6c3204c66dcd87b604927b115b27c00565d3d43f05ba2f3a2cb0d"
   }
  }
 },
 "nbformat": 4,
 "nbformat_minor": 2
}
