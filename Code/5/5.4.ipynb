{
 "cells": [
  {
   "cell_type": "code",
   "execution_count": 1,
   "metadata": {},
   "outputs": [],
   "source": [
    "import re\n",
    "import matplotlib.pyplot as plt\n",
    "import os\n",
    "from sklearn.feature_extraction.text import CountVectorizer\n",
    "from sklearn.model_selection import cross_val_score\n",
    "import os\n",
    "from sklearn.naive_bayes import GaussianNB\n",
    "from sklearn.neighbors import KNeighborsClassifier\n",
    "import warnings\n",
    "warnings.filterwarnings(\"ignore\")"
   ]
  },
  {
   "cell_type": "code",
   "execution_count": 2,
   "metadata": {},
   "outputs": [],
   "source": [
    "\n",
    "def load_kdd99(filename):\n",
    "    x=[]\n",
    "    with open(filename) as f:\n",
    "        for line in f:\n",
    "            line=line.strip('\\n')\n",
    "            line=line.split(',')\n",
    "            x.append(line)\n",
    "    return x\n",
    "\n",
    "def get_rootkit2andNormal(x):\n",
    "    # x为传入的列表\n",
    "    v=[]\n",
    "    w=[]\n",
    "    y=[]\n",
    "    for x1 in x:\n",
    "        # 筛选标记为Rootkit和normal且是telnet协议的数据：\n",
    "        if ( x1[41] in ['rootkit.','normal.'] ) and ( x1[2] == 'telnet' ):\n",
    "            if x1[41] == 'rootkit.':\n",
    "                y.append(1)\n",
    "            else:\n",
    "                y.append(0)\n",
    "            # 挑选与Rootkit相关的特征作为样本特征\n",
    "            x1 = x1[9:21]\n",
    "            v.append(x1)\n",
    "\n",
    "    for x1 in v :\n",
    "        v1=[]\n",
    "        for x2 in x1:\n",
    "            v1.append(float(x2))\n",
    "        w.append(v1)\n",
    "    return w,y\n"
   ]
  },
  {
   "cell_type": "code",
   "execution_count": 8,
   "metadata": {},
   "outputs": [
    {
     "name": "stdout",
     "output_type": "stream",
     "text": [
      "<class 'list'>\n",
      "90 90\n",
      "[1.         1.         1.         1.         1.         0.77777778\n",
      " 1.         1.         0.88888889 0.88888889]\n",
      "0.9555555555555555\n"
     ]
    }
   ],
   "source": [
    "import numpy as np\n",
    "v=load_kdd99(\"../../Data/kddcup99/corrected\")\n",
    "print(type(v))\n",
    "x,y=get_rootkit2andNormal(v)\n",
    "print(len(x),len(y))\n",
    "clf = KNeighborsClassifier(n_neighbors=3)\n",
    "a = cross_val_score(clf, x, y, n_jobs=-1, cv=10)\n",
    "print(a)\n",
    "print(np.mean(a))\n",
    "\n"
   ]
  }
 ],
 "metadata": {
  "kernelspec": {
   "display_name": "Python 3.9.1 64-bit",
   "language": "python",
   "name": "python3"
  },
  "language_info": {
   "codemirror_mode": {
    "name": "ipython",
    "version": 3
   },
   "file_extension": ".py",
   "mimetype": "text/x-python",
   "name": "python",
   "nbconvert_exporter": "python",
   "pygments_lexer": "ipython3",
   "version": "3.9.1"
  },
  "orig_nbformat": 4,
  "vscode": {
   "interpreter": {
    "hash": "81794d4967e6c3204c66dcd87b604927b115b27c00565d3d43f05ba2f3a2cb0d"
   }
  }
 },
 "nbformat": 4,
 "nbformat_minor": 2
}
