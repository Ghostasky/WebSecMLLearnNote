{
 "cells": [
  {
   "cell_type": "code",
   "execution_count": 2,
   "metadata": {},
   "outputs": [],
   "source": [
    "import re\n",
    "import os\n",
    "import numpy as np\n",
    "from sklearn.feature_extraction.text import CountVectorizer\n",
    "from sklearn.model_selection import cross_val_score\n",
    "from sklearn.neighbors import KNeighborsClassifier\n",
    "import matplotlib.pyplot as plt\n",
    "from sklearn.datasets import load_iris\n",
    "from sklearn import tree\n",
    "import pydotplus"
   ]
  },
  {
   "cell_type": "code",
   "execution_count": 3,
   "metadata": {},
   "outputs": [],
   "source": [
    "def load_kdd99(filename):\n",
    "    x=[]\n",
    "    with open(filename) as f:\n",
    "        for line in f:\n",
    "            line=line.strip('\\n')\n",
    "            line=line.split(',')\n",
    "            x.append(line)\n",
    "    return x\n",
    "\n",
    "def get_guess_passwdandNormal(x):\n",
    "    v=[]\n",
    "    w=[]\n",
    "    y=[]\n",
    "    for x1 in x:\n",
    "        if ( x1[41] in ['guess_passwd.','normal.'] ) and ( x1[2] == 'pop_3' ):\n",
    "            if x1[41] == 'guess_passwd.':\n",
    "                y.append(1)\n",
    "            else:\n",
    "                y.append(0)\n",
    "\n",
    "            x1 = [x1[0]] + x1[4:8]+x1[22:30]\n",
    "            v.append(x1)\n",
    "\n",
    "    for x1 in v :\n",
    "        v1=[]\n",
    "        for x2 in x1:\n",
    "            v1.append(float(x2))\n",
    "        w.append(v1)\n",
    "    return w,y\n"
   ]
  },
  {
   "cell_type": "code",
   "execution_count": 9,
   "metadata": {},
   "outputs": [
    {
     "name": "stdout",
     "output_type": "stream",
     "text": [
      "[0.9863388  0.99726776 1.         1.         1.         1.\n",
      " 1.         1.         1.         1.        ]\n",
      "0.9983606557377049\n"
     ]
    },
    {
     "data": {
      "text/plain": [
       "True"
      ]
     },
     "execution_count": 9,
     "metadata": {},
     "output_type": "execute_result"
    }
   ],
   "source": [
    "v=load_kdd99(\"../../Data/kddcup99/corrected\")\n",
    "# y：若为guess_passwd 则为0，否则为1\n",
    "x,y=get_guess_passwdandNormal(v)\n",
    "\n",
    "clf = tree.DecisionTreeClassifier()\n",
    "clf = clf.fit(x, y)\n",
    "a = cross_val_score(clf, x, y, n_jobs=-1, cv=10)\n",
    "print(a)\n",
    "print(np.mean(a))\n",
    "#可视化决策树\n",
    "dot_data = tree.export_graphviz(clf, out_file=None)\n",
    "graph = pydotplus.graph_from_dot_data(dot_data)\n",
    "graph.write_pdf(\"../../Data/photo/6/iris-dt.pdf\")"
   ]
  }
 ],
 "metadata": {
  "kernelspec": {
   "display_name": "Python 3.9.1 64-bit",
   "language": "python",
   "name": "python3"
  },
  "language_info": {
   "codemirror_mode": {
    "name": "ipython",
    "version": 3
   },
   "file_extension": ".py",
   "mimetype": "text/x-python",
   "name": "python",
   "nbconvert_exporter": "python",
   "pygments_lexer": "ipython3",
   "version": "3.9.1"
  },
  "orig_nbformat": 4,
  "vscode": {
   "interpreter": {
    "hash": "81794d4967e6c3204c66dcd87b604927b115b27c00565d3d43f05ba2f3a2cb0d"
   }
  }
 },
 "nbformat": 4,
 "nbformat_minor": 2
}
