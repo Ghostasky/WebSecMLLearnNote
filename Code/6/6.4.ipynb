{
 "cells": [
  {
   "cell_type": "code",
   "execution_count": 1,
   "metadata": {},
   "outputs": [],
   "source": [
    "import re\n",
    "import matplotlib.pyplot as plt\n",
    "import os\n",
    "from sklearn.feature_extraction.text import CountVectorizer\n",
    "from sklearn.model_selection import cross_val_score\n",
    "import numpy as np\n",
    "from sklearn.datasets import load_iris\n",
    "from sklearn import tree\n",
    "import pydotplus\n"
   ]
  },
  {
   "cell_type": "code",
   "execution_count": 30,
   "metadata": {},
   "outputs": [],
   "source": [
    "def load_one_flle(filename):\n",
    "    x=[]\n",
    "    with open(filename) as f:\n",
    "        line=f.readline()\n",
    "        line=line.strip('\\n')\n",
    "    return line\n",
    "\n",
    "def load_adfa_training_files(rootdir):\n",
    "    x=[]\n",
    "    y=[]\n",
    "    list = os.listdir(rootdir)\n",
    "    # print(list)\n",
    "    for i in range(0, len(list)):\n",
    "        path = os.path.join(rootdir, list[i])\n",
    "        if os.path.isfile(path):\n",
    "            # print(path)\n",
    "            x.append(load_one_flle(path))\n",
    "            y.append(0)\n",
    "    return x,y\n",
    "\n",
    "def dirlist(path, allfile):\n",
    "    filelist = os.listdir(path)\n",
    "\n",
    "    for filename in filelist:\n",
    "        filepath = os.path.join(path, filename)\n",
    "        if os.path.isdir(filepath):\n",
    "            dirlist(filepath, allfile)\n",
    "        else:\n",
    "            allfile.append(filepath)\n",
    "    return allfile\n",
    "\n",
    "def load_adfa_hydra_ftp_files(rootdir):\n",
    "    x=[]\n",
    "    y=[]\n",
    "    allfile=dirlist(rootdir,[])\n",
    "    # print(allfile)\n",
    "    for file in allfile:\n",
    "        if re.match(r\"../../Data/ADFA-LD/Attack_Data_Master/Hydra_FTP_\\d+\\\\UAD-Hydra-FTP*\",file):\n",
    "            # print(file)\n",
    "            x.append(load_one_flle(file))\n",
    "            y.append(1)\n",
    "    return x,y"
   ]
  },
  {
   "cell_type": "code",
   "execution_count": 44,
   "metadata": {},
   "outputs": [
    {
     "name": "stdout",
     "output_type": "stream",
     "text": [
      "142\n",
      "  (0, 127)\t1\n",
      "  (0, 121)\t1\n",
      "  (0, 10)\t2\n",
      "  (0, 46)\t1\n",
      "  (0, 5)\t2\n",
      "  (0, 81)\t267\n",
      "  (1, 10)\t24\n",
      "  (1, 124)\t10\n",
      "  (1, 35)\t61\n",
      "  (1, 8)\t3\n",
      "  (1, 34)\t5\n",
      "  (1, 17)\t3\n",
      "  (2, 46)\t1\n",
      "  (2, 124)\t1\n",
      "  (2, 35)\t1\n",
      "  (2, 34)\t2\n",
      "  (2, 3)\t1\n",
      "  (2, 123)\t3\n",
      "  (2, 112)\t9\n",
      "  (2, 44)\t23\n",
      "  (2, 48)\t10\n",
      "  (2, 80)\t1\n",
      "  (2, 12)\t9\n",
      "  (2, 136)\t3\n",
      "  (2, 85)\t1\n",
      "  :\t:\n",
      "  (990, 90)\t68\n",
      "  (991, 46)\t28\n",
      "  (991, 47)\t16\n",
      "  (991, 0)\t13\n",
      "  (991, 135)\t42\n",
      "  (991, 1)\t116\n",
      "  (991, 90)\t10\n",
      "  (991, 94)\t28\n",
      "  (991, 107)\t51\n",
      "  (992, 46)\t29\n",
      "  (992, 47)\t16\n",
      "  (992, 0)\t19\n",
      "  (992, 135)\t41\n",
      "  (992, 1)\t114\n",
      "  (992, 90)\t15\n",
      "  (992, 94)\t28\n",
      "  (992, 107)\t42\n",
      "  (993, 10)\t24\n",
      "  (993, 8)\t1\n",
      "  (993, 1)\t29\n",
      "  (993, 94)\t3\n",
      "  (994, 44)\t3\n",
      "  (994, 48)\t4\n",
      "  (994, 136)\t19\n",
      "  (994, 30)\t3\n",
      "[[  0   0   0 ...   0   0   0]\n",
      " [  0   0   0 ...   0   0   0]\n",
      " [  0   0   0 ...   0   0   0]\n",
      " ...\n",
      " [ 19 114   0 ...   0   0   0]\n",
      " [  0  29   0 ...   0   0   0]\n",
      " [  0   0   0 ...   0   0   0]]\n",
      "995\n",
      "[1.         0.98       0.96       0.98       0.96       0.87878788\n",
      " 0.98989899 0.97979798 0.96969697 0.94949495]\n",
      "0.9647676767676769\n"
     ]
    },
    {
     "data": {
      "text/plain": [
       "True"
      ]
     },
     "execution_count": 44,
     "metadata": {},
     "output_type": "execute_result"
    }
   ],
   "source": [
    "x1,y1=load_adfa_training_files(\"../../Data/ADFA-LD/Training_Data_Master/\")\n",
    "\n",
    "x2,y2=load_adfa_hydra_ftp_files(\"../../Data/ADFA-LD/Attack_Data_Master/\")\n",
    "x=x1+x2#拼接\n",
    "y=y1+y2\n",
    "\n",
    "vectorizer = CountVectorizer(min_df=1)\n",
    "\n",
    "x=vectorizer.fit_transform(x)\n",
    "# print(vectorizer.get_feature_names())\n",
    "print(len(vectorizer.get_feature_names()))\n",
    "print(x)\n",
    "x=x.toarray()\n",
    "print(x)\n",
    "print(len(x))\n",
    "clf = tree.DecisionTreeClassifier()\n",
    "a=cross_val_score(clf, x, y, n_jobs=-1, cv=10)\n",
    "print(a)\n",
    "print(np.mean(a))\n",
    "clf = clf.fit(x, y)\n",
    "dot_data = tree.export_graphviz(clf, out_file=None)\n",
    "graph = pydotplus.graph_from_dot_data(dot_data)\n",
    "graph.write_pdf(\"./ftp.pdf\")"
   ]
  }
 ],
 "metadata": {
  "kernelspec": {
   "display_name": "Python 3.9.1 64-bit",
   "language": "python",
   "name": "python3"
  },
  "language_info": {
   "codemirror_mode": {
    "name": "ipython",
    "version": 3
   },
   "file_extension": ".py",
   "mimetype": "text/x-python",
   "name": "python",
   "nbconvert_exporter": "python",
   "pygments_lexer": "ipython3",
   "version": "3.9.1"
  },
  "orig_nbformat": 4,
  "vscode": {
   "interpreter": {
    "hash": "81794d4967e6c3204c66dcd87b604927b115b27c00565d3d43f05ba2f3a2cb0d"
   }
  }
 },
 "nbformat": 4,
 "nbformat_minor": 2
}
