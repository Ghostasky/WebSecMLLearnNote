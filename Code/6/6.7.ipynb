{
    "cells": [
        {
            "cell_type": "code",
            "execution_count": 4,
            "metadata": {},
            "outputs": [],
            "source": [
                "import re\n",
                "import matplotlib.pyplot as plt\n",
                "import os\n",
                "from sklearn.feature_extraction.text import CountVectorizer\n",
                "from sklearn.model_selection import cross_val_score\n",
                "from sklearn.datasets import load_iris\n",
                "from sklearn import tree\n",
                "from sklearn.ensemble import RandomForestClassifier\n",
                "import numpy as np"
            ]
        },
        {
            "cell_type": "code",
            "execution_count": 14,
            "metadata": {},
            "outputs": [],
            "source": [
                "\n",
                "def load_one_flle(filename):\n",
                "    x=[]\n",
                "    with open(filename) as f:\n",
                "        line=f.readline()\n",
                "        line=line.strip('\\n')\n",
                "    return line\n",
                "\n",
                "def load_adfa_training_files(rootdir):\n",
                "    x=[]\n",
                "    y=[]\n",
                "    list = os.listdir(rootdir)\n",
                "    for i in range(0, len(list)):\n",
                "        path = os.path.join(rootdir, list[i])\n",
                "        if os.path.isfile(path):\n",
                "            x.append(load_one_flle(path))\n",
                "            y.append(0)\n",
                "    return x,y\n",
                "\n",
                "def dirlist(path, allfile):\n",
                "    filelist = os.listdir(path)\n",
                "\n",
                "    for filename in filelist:\n",
                "        filepath = os.path.join(path, filename)\n",
                "        if os.path.isdir(filepath):\n",
                "            dirlist(filepath, allfile)\n",
                "        else:\n",
                "            allfile.append(filepath)\n",
                "    return allfile\n",
                "\n",
                "def load_adfa_hydra_ftp_files(rootdir):\n",
                "    x=[]\n",
                "    y=[]\n",
                "    allfile=dirlist(rootdir,[])\n",
                "    for file in allfile:\n",
                "        if re.match(r\"../../Data/ADFA-LD/Attack_Data_Master/Hydra_FTP_\\d+\\\\UAD-Hydra-FTP*\",file):\n",
                "            # print(file)\n",
                "            x.append(load_one_flle(file))\n",
                "            y.append(1)\n",
                "    return x,y"
            ]
        },
        {
            "cell_type": "code",
            "execution_count": 19,
            "metadata": {},
            "outputs": [
                {
                    "name": "stdout",
                    "output_type": "stream",
                    "text": [
                        "[1.         0.97       0.95       0.98       0.95       0.88888889\n",
                        " 0.98989899 0.97979798 0.95959596 0.95959596]\n",
                        "0.9627777777777778\n",
                        "[0.98       0.99       0.98       0.97       0.98       0.93939394\n",
                        " 0.98989899 0.98989899 1.         1.        ]\n",
                        "0.9819191919191919\n"
                    ]
                }
            ],
            "source": [
                "x1,y1=load_adfa_training_files(\"../../Data/ADFA-LD/Training_Data_Master/\")\n",
                "\n",
                "x2,y2=load_adfa_hydra_ftp_files(\"../../Data/ADFA-LD/Attack_Data_Master/\")\n",
                "x=x1+x2\n",
                "y=y1+y2\n",
                "# #print x\n",
                "vectorizer = CountVectorizer(min_df=1)\n",
                "x=vectorizer.fit_transform(x)\n",
                "x=x.toarray()\n",
                "# #print y\n",
                "clf1 = tree.DecisionTreeClassifier()\n",
                "score=cross_val_score(clf1, x, y, n_jobs=-1, cv=10)\n",
                "print(score)\n",
                "print(np.mean(score))\n",
                "clf2 = RandomForestClassifier(n_estimators=10, max_depth=None,min_samples_split=2, random_state=0)\n",
                "score=cross_val_score(clf2, x, y, n_jobs=-1, cv=10)\n",
                "print(score)\n",
                "print(np.mean(score))\n"
            ]
        }
    ],
    "metadata": {
        "kernelspec": {
            "display_name": "Python 3.9.1 64-bit",
            "language": "python",
            "name": "python3"
        },
        "language_info": {
            "codemirror_mode": {
                "name": "ipython",
                "version": 3
            },
            "file_extension": ".py",
            "mimetype": "text/x-python",
            "name": "python",
            "nbconvert_exporter": "python",
            "pygments_lexer": "ipython3",
            "version": "3.9.1"
        },
        "orig_nbformat": 4,
        "vscode": {
            "interpreter": {
                "hash": "81794d4967e6c3204c66dcd87b604927b115b27c00565d3d43f05ba2f3a2cb0d"
            }
        }
    },
    "nbformat": 4,
    "nbformat_minor": 2
}
